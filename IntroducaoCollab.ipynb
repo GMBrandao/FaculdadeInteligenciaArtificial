{
  "nbformat": 4,
  "nbformat_minor": 0,
  "metadata": {
    "colab": {
      "provenance": [],
      "toc_visible": true,
      "mount_file_id": "1ohr0Bxc9VkfPmb272xxQtmnr0drm6P7t",
      "authorship_tag": "ABX9TyME3tAMY36QCeut6AsEI1lA",
      "include_colab_link": true
    },
    "kernelspec": {
      "name": "python3",
      "display_name": "Python 3"
    },
    "language_info": {
      "name": "python"
    }
  },
  "cells": [
    {
      "cell_type": "markdown",
      "metadata": {
        "id": "view-in-github",
        "colab_type": "text"
      },
      "source": [
        "<a href=\"https://colab.research.google.com/github/GMBrandao/FaculdadeInteligenciaArtificial/blob/main/IntroducaoCollab.ipynb\" target=\"_parent\"><img src=\"https://colab.research.google.com/assets/colab-badge.svg\" alt=\"Open In Colab\"/></a>"
      ]
    },
    {
      "cell_type": "markdown",
      "source": [
        "#    **Pedra, papel e tesoura**"
      ],
      "metadata": {
        "id": "MzRXKD0pxIrL"
      }
    },
    {
      "cell_type": "code",
      "source": [
        "import random\n",
        "\n",
        "opcoes = [\"Pedra\", \"Papel\", \"Tesoura\"]\n",
        "\n",
        "usuario = input(\"Escolha Pedra ou Papel ou Tesoura: \").lower()\n",
        "\n",
        "pc = random.choice(opcoes)\n",
        "\n",
        "print(\"Voce escolheu: \", usuario)\n",
        "print(\"Computador escolhe: \", pc)\n",
        "\n",
        "if usuario == pc.lower():\n",
        "    print(\"Empatou!\")\n",
        "elif usuario == \"pedra\" and pc == \"Tesoura\":\n",
        "    print(\"Voce Ganhou!\")\n",
        "elif usuario == \"papel\" and pc == \"Pedra\":\n",
        "    print(\"Voce Ganhou!\")\n",
        "elif usuario == \"tesoura\" and pc == \"Papel\":\n",
        "    print(\"Voce Ganhou!\")\n",
        "else:\n",
        "    print(\"Collab Ganhou!\")\n"
      ],
      "metadata": {
        "colab": {
          "base_uri": "https://localhost:8080/"
        },
        "id": "Iyp5hUZhwrlx",
        "outputId": "a29788fe-409c-4774-9706-a9bf4ee19f49"
      },
      "execution_count": null,
      "outputs": [
        {
          "output_type": "stream",
          "name": "stdout",
          "text": [
            "Escolha Pedra ou Papel ou Tesoura: papel\n",
            "Voce escolheu:  papel\n",
            "Computador escolhe:  Papel\n",
            "Empatou!\n"
          ]
        }
      ]
    },
    {
      "cell_type": "markdown",
      "source": [
        "# **Defina com suas próprias palavras:**\n",
        "\n",
        "---\n",
        "\n",
        "\n",
        "\n",
        "---\n",
        "\n",
        "\n",
        "*   **(a) inteligência** : capacidade de aprender e resolver problemas.\n",
        "---\n",
        "\n",
        "---\n",
        "\n",
        "\n",
        "*   **(b) inteligência artificial** : é um conjunto de tecnologias que permitem aos computadores executar uma variedade de funções avançadas, incluindo a **capacidade** de ver, entender e traduzir idiomas falados e escritos.\n",
        "---\n",
        "\n",
        "---\n",
        "\n",
        "\n",
        "*   **(c) agente**: é como se fosse o cérebro de um sistema de IA, é o responsável por tomar as decisões. Eles processam informações para tomar decisões e alcançar objetivos específicos.\n",
        "---\n",
        "\n",
        "---\n",
        "\n",
        "\n",
        "*   **(d)racionalidade**: Acredito que seja a capacidade de algém tomar suas próprias decisões.\n",
        "---\n",
        "\n",
        "---\n",
        "\n",
        "\n",
        "*   **(e) raciocínio lógico**: é um processo de estruturação do pensamento de acordo com uma certa lógica que permite chegar a uma determinada conclusão ou resolver um problema.\n",
        "---\n",
        "\n",
        "---\n",
        "\n",
        "\n",
        "\n",
        "\n"
      ],
      "metadata": {
        "id": "KUESXMEc0_AL"
      }
    }
  ]
}