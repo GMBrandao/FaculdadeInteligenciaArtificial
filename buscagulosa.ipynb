{
  "nbformat": 4,
  "nbformat_minor": 0,
  "metadata": {
    "colab": {
      "provenance": [],
      "include_colab_link": true
    },
    "kernelspec": {
      "name": "python3",
      "display_name": "Python 3"
    },
    "language_info": {
      "name": "python"
    }
  },
  "cells": [
    {
      "cell_type": "markdown",
      "metadata": {
        "id": "view-in-github",
        "colab_type": "text"
      },
      "source": [
        "<a href=\"https://colab.research.google.com/github/GMBrandao/FaculdadeInteligenciaArtificial/blob/main/buscagulosa.ipynb\" target=\"_parent\"><img src=\"https://colab.research.google.com/assets/colab-badge.svg\" alt=\"Open In Colab\"/></a>"
      ]
    },
    {
      "cell_type": "markdown",
      "source": [
        "#Algoritmo de Busca Gulosa"
      ],
      "metadata": {
        "id": "6jeXasc2_WB6"
      }
    },
    {
      "cell_type": "code",
      "execution_count": null,
      "metadata": {
        "id": "NqLfOO1m_VVP"
      },
      "outputs": [],
      "source": [
        "import heapq"
      ]
    },
    {
      "cell_type": "markdown",
      "source": [
        "Função principal"
      ],
      "metadata": {
        "id": "DEJx6wKP_3U6"
      }
    },
    {
      "cell_type": "code",
      "source": [
        "def greedy_search(graph, start, goal):\n",
        "    visited = set()\n",
        "    priority_queue = [(0, start)]  # Inicializa a fila de prioridade com o nó inicial e custo zero\n",
        "    while priority_queue:\n",
        "        cost, current_node = heapq.heappop(priority_queue)  # Remove o nó com o menor custo da fila\n",
        "        if current_node == goal:\n",
        "            return cost  # Retorna o custo acumulado se o objetivo for alcançado\n",
        "        if current_node not in visited:\n",
        "            visited.add(current_node)\n",
        "            for neighbor, neighbor_cost in graph[current_node].items():\n",
        "                if neighbor not in visited:\n",
        "                    heapq.heappush(priority_queue, (cost + neighbor_cost, neighbor))  # Adiciona vizinhos à fila de prioridade\n",
        "    return float('inf')  # Retorna infinito se o objetivo não for alcançado"
      ],
      "metadata": {
        "id": "KSuAicSe_83-"
      },
      "execution_count": null,
      "outputs": []
    },
    {
      "cell_type": "markdown",
      "source": [
        "Grafo com os caminhos"
      ],
      "metadata": {
        "id": "VwTyRgQr_-Fr"
      }
    },
    {
      "cell_type": "code",
      "source": [
        "graph = {\n",
        "    'A': {'B': 10, 'C': 20, 'D': 15},\n",
        "    'B': {'A': 10, 'C': 25,'E': 30},\n",
        "    'C': {'A': 20, 'B': 25, 'D': 35, 'E': 40},\n",
        "    'D': {'A': 15, 'C': 35, 'E': 45},\n",
        "    'E': {'B': 30, 'C': 40, 'D': 45}\n",
        "}"
      ],
      "metadata": {
        "id": "oga_aYJtAAJU"
      },
      "execution_count": null,
      "outputs": []
    },
    {
      "cell_type": "markdown",
      "source": [
        "Escolha do caminho:"
      ],
      "metadata": {
        "id": "0EMc9bCPQyfm"
      }
    },
    {
      "cell_type": "code",
      "source": [
        "inicial = input(\"Escolha o ponto de saída: \").upper()\n",
        "meio = input(\"Escolha o primeiro ponto de destino: \").upper()\n",
        "fim = input(\"Escolha o ultimo ponto de destino: \").upper()"
      ],
      "metadata": {
        "colab": {
          "base_uri": "https://localhost:8080/"
        },
        "id": "nr6JmHHdQ1Kf",
        "outputId": "4f78050e-3d9f-477e-b700-ab0941dba55c"
      },
      "execution_count": null,
      "outputs": [
        {
          "name": "stdout",
          "output_type": "stream",
          "text": [
            "Escolha o ponto de saída: B\n",
            "Escolha o primeiro ponto de destino: C\n",
            "Escolha o ultimo ponto de destino: E\n"
          ]
        }
      ]
    },
    {
      "cell_type": "markdown",
      "source": [
        "Testar:"
      ],
      "metadata": {
        "id": "c-Rj_HHVAD3f"
      }
    },
    {
      "cell_type": "code",
      "source": [
        "shortest_path_cost1 = greedy_search(graph, inicial, meio)\n",
        "shortest_path_cost2 = greedy_search(graph, meio, fim)\n",
        "\n",
        "print(\"O custo do caminho mais curto de\", inicial, \"para\", meio, \"é:\", shortest_path_cost1)\n",
        "print(\"O custo do caminho mais curto de\", meio, \"para\", fim, \"é:\", shortest_path_cost2)\n",
        "print(\"Então  caminho mais curto entre\", inicial, \",\", meio, \"e\", fim,\"é:\", shortest_path_cost1 + shortest_path_cost2)"
      ],
      "metadata": {
        "id": "fvehi8SlAGj4",
        "colab": {
          "base_uri": "https://localhost:8080/"
        },
        "outputId": "c86c0097-8c34-43b7-983a-e663d9bb023f"
      },
      "execution_count": null,
      "outputs": [
        {
          "output_type": "stream",
          "name": "stdout",
          "text": [
            "O custo do caminho mais curto de B para C é: 25\n",
            "O custo do caminho mais curto de C para E é: 40\n",
            "Então  caminho mais curto entre B , C e E é: 65\n"
          ]
        }
      ]
    }
  ]
}