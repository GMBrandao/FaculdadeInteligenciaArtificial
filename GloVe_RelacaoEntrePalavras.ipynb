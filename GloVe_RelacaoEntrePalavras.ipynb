{
  "nbformat": 4,
  "nbformat_minor": 0,
  "metadata": {
    "colab": {
      "provenance": [],
      "include_colab_link": true
    },
    "kernelspec": {
      "name": "python3",
      "display_name": "Python 3"
    },
    "language_info": {
      "name": "python"
    }
  },
  "cells": [
    {
      "cell_type": "markdown",
      "metadata": {
        "id": "view-in-github",
        "colab_type": "text"
      },
      "source": [
        "<a href=\"https://colab.research.google.com/github/GMBrandao/FaculdadeInteligenciaArtificial/blob/main/GloVe_RelacaoEntrePalavras.ipynb\" target=\"_parent\"><img src=\"https://colab.research.google.com/assets/colab-badge.svg\" alt=\"Open In Colab\"/></a>"
      ]
    },
    {
      "cell_type": "code",
      "source": [
        "import gensim.downloader as api"
      ],
      "metadata": {
        "id": "pEUhu0H6sc1S"
      },
      "execution_count": 2,
      "outputs": []
    },
    {
      "cell_type": "code",
      "execution_count": 3,
      "metadata": {
        "colab": {
          "base_uri": "https://localhost:8080/"
        },
        "id": "qbiQKrkfQtrR",
        "outputId": "1574d378-a555-4a78-9801-1cd9035313a3"
      },
      "outputs": [
        {
          "output_type": "stream",
          "name": "stdout",
          "text": [
            "[==================================================] 100.0% 128.1/128.1MB downloaded\n",
            "Vetor GloVe para a palavra 'car': [-0.1684   -0.53827   0.31155  -0.53218   0.26678  -0.13638   0.36621\n",
            "  0.68383   0.77726   0.68049   0.69137   0.2103    0.091065  0.24845\n",
            " -0.16157   0.46291  -0.1503    0.2562   -0.1199    0.5913    1.0351\n",
            " -0.2052    0.30244  -0.34101   0.6326   -0.31603  -0.9959   -0.33583\n",
            "  0.25161   0.10323   0.019611  0.54893  -0.33433   0.29617   0.41218\n",
            "  0.4207    0.25775   0.12709   0.80269   0.61944   0.54316  -0.5941\n",
            "  0.87551  -0.063686 -0.29117   0.61609   0.33376   0.14488  -0.039021\n",
            " -1.1849   -0.45951   0.15631  -0.50818   1.2357    0.30965  -1.958\n",
            " -1.1872    1.2027    2.1138    0.083629  0.54319   0.78883   0.35416\n",
            "  0.87736   0.54007  -0.10454   0.075371 -0.45727  -0.27466   0.11838\n",
            " -0.49412  -0.61325   0.071519 -0.57665   0.21371   0.62137   1.4404\n",
            " -0.34033  -0.89958  -0.69605   0.74058   0.52105  -0.19224  -0.20366\n",
            " -0.22409  -0.3708   -0.34663  -0.86018  -0.89182  -0.43871   0.19424\n",
            "  0.17073   0.43663  -0.11295  -0.51156   0.34186  -0.10274   0.39684\n",
            "  1.734    -0.70787 ]\n",
            "Palavras mais similares a 'car': [('vehicle', 0.8630837798118591), ('truck', 0.8597878813743591), ('cars', 0.837166965007782), ('driver', 0.8185911178588867), ('driving', 0.781263530254364)]\n"
          ]
        }
      ],
      "source": [
        "# Carregar embeddings GloVe pré-treinados\n",
        "glove_model = api.load(\"glove-wiki-gigaword-100\")\n",
        "\n",
        "# Obter vetor de palavra para uma palavra específica\n",
        "word_vector = glove_model['car']\n",
        "print(\"Vetor GloVe para a palavra 'car':\", word_vector)\n",
        "\n",
        "# Encontrar palavras mais similares\n",
        "similar_words = glove_model.most_similar('car', topn=5)\n",
        "print(\"Palavras mais similares a 'car':\", similar_words)\n"
      ]
    }
  ]
}