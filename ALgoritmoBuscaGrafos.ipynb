{
  "nbformat": 4,
  "nbformat_minor": 0,
  "metadata": {
    "colab": {
      "provenance": [],
      "collapsed_sections": [
        "mAsAgTe-NcU9"
      ],
      "include_colab_link": true
    },
    "kernelspec": {
      "name": "python3",
      "display_name": "Python 3"
    },
    "language_info": {
      "name": "python"
    }
  },
  "cells": [
    {
      "cell_type": "markdown",
      "metadata": {
        "id": "view-in-github",
        "colab_type": "text"
      },
      "source": [
        "<a href=\"https://colab.research.google.com/github/GMBrandao/FaculdadeInteligenciaArtificial/blob/main/ALgoritmoBuscaGrafos.ipynb\" target=\"_parent\"><img src=\"https://colab.research.google.com/assets/colab-badge.svg\" alt=\"Open In Colab\"/></a>"
      ]
    },
    {
      "cell_type": "markdown",
      "source": [
        "# **Gerar Grafo**"
      ],
      "metadata": {
        "id": "U9XFERJmKggk"
      }
    },
    {
      "cell_type": "code",
      "source": [
        "import networkx as nx\n",
        "import matplotlib.pyplot as plt"
      ],
      "metadata": {
        "id": "KSxisKUJGqoV"
      },
      "execution_count": 53,
      "outputs": []
    },
    {
      "cell_type": "code",
      "source": [
        "def criar_grafo_exemplo():\n",
        "    G = nx.Graph()\n",
        "\n",
        "    # Adiciona nós\n",
        "    G.add_nodes_from([\"A\", \"B\", \"C\", \"D\", \"E\"])\n",
        "\n",
        "    # Adiciona arestas\n",
        "    G.add_edges_from([(\"A\", \"B\"), (\"B\", \"D\"), (\"B\", \"E\"), (\"E\", \"H\"), (\"A\", \"C\"), (\"C\", \"F\"), (\"C\", \"G\")])\n",
        "\n",
        "    return G"
      ],
      "metadata": {
        "id": "7nAAV27HMyYD"
      },
      "execution_count": 54,
      "outputs": []
    },
    {
      "cell_type": "code",
      "source": [
        "def desenhar_grafo(grafo):\n",
        "    pos = nx.spring_layout(grafo)  # Define a posição dos nós\n",
        "    nx.draw(grafo, pos, with_labels=True, font_weight='bold', node_size=700, node_color='skyblue', font_size=10)\n",
        "    plt.show()"
      ],
      "metadata": {
        "id": "-Yxd6vtWM5xP"
      },
      "execution_count": 55,
      "outputs": []
    },
    {
      "cell_type": "code",
      "source": [
        "grafo_exemplo = criar_grafo_exemplo()"
      ],
      "metadata": {
        "id": "zrOd8qWPM7y-"
      },
      "execution_count": 56,
      "outputs": []
    },
    {
      "cell_type": "code",
      "source": [
        "desenhar_grafo(grafo_exemplo)"
      ],
      "metadata": {
        "colab": {
          "base_uri": "https://localhost:8080/",
          "height": 516
        },
        "id": "zQwcwrrIM9d6",
        "outputId": "5c153876-e6b1-479f-c610-ffb25ddbceff"
      },
      "execution_count": 57,
      "outputs": [
        {
          "output_type": "display_data",
          "data": {
            "text/plain": [
              "<Figure size 640x480 with 1 Axes>"
            ],
            "image/png": "[encoded data removed]"
          },
          "metadata": {}
        }
      ]
    },
    {
      "cell_type": "markdown",
      "source": [
        "# **Algoritmo de Busca - \"Busca Cega\"**"
      ],
      "metadata": {
        "id": "mAsAgTe-NcU9"
      }
    },
    {
      "cell_type": "code",
      "source": [
        "from collections import deque"
      ],
      "metadata": {
        "id": "nXKUxTURJ3kV"
      },
      "execution_count": 58,
      "outputs": []
    },
    {
      "cell_type": "code",
      "execution_count": 59,
      "metadata": {
        "id": "Yxv78LJJF2es"
      },
      "outputs": [],
      "source": [
        "def busca_largura(grafo, inicio, objetivo):\n",
        "    fila = deque([(inicio, [inicio])])\n",
        "    print(str(fila))\n",
        "\n",
        "    while fila:\n",
        "        (vertice, caminho) = fila.popleft()\n",
        "        print(\"vertice: \" + str(vertice))\n",
        "        print(\"caminho: \" + str(caminho))\n",
        "        for vizinho in grafo[vertice]:\n",
        "            print(\"vizinho: \" + str(vizinho))\n",
        "            if vizinho not in caminho:\n",
        "                if vizinho == objetivo:\n",
        "                    return caminho + [vizinho]\n",
        "                else:\n",
        "                    fila.append((vizinho, caminho + [vizinho]))\n",
        "\n",
        "\n",
        "\n"
      ]
    },
    {
      "cell_type": "code",
      "source": [
        "fila = deque([('A', ['A'])])\n",
        "print(str(fila))\n",
        "(vertice, caminho) = fila.popleft()\n",
        "print(str((vertice, caminho)))\n",
        "\n",
        "\n"
      ],
      "metadata": {
        "colab": {
          "base_uri": "https://localhost:8080/"
        },
        "id": "exVI9yFcLOJ8",
        "outputId": "47c36941-b94f-48e0-a212-14ae2c7c555a"
      },
      "execution_count": 60,
      "outputs": [
        {
          "output_type": "stream",
          "name": "stdout",
          "text": [
            "deque([('A', ['A'])])\n",
            "('A', ['A'])\n"
          ]
        }
      ]
    },
    {
      "cell_type": "code",
      "source": [
        "grafo_exemplo = {\n",
        "    'A': ['B', 'C'],\n",
        "    'B': ['A', 'D', 'E'],\n",
        "    'C': ['A', 'F', 'G'],\n",
        "    'D': ['B'],\n",
        "    'E': ['B', 'H'],\n",
        "    'F': ['C'],\n",
        "    'G': ['C'],\n",
        "    'H': ['E']\n",
        "}"
      ],
      "metadata": {
        "id": "YJT42U4JJ_6h"
      },
      "execution_count": 61,
      "outputs": []
    },
    {
      "cell_type": "code",
      "source": [
        "resultado = busca_largura(grafo_exemplo, 'A', 'H')\n",
        "print(\"Caminho mais curto:\", resultado)"
      ],
      "metadata": {
        "colab": {
          "base_uri": "https://localhost:8080/"
        },
        "id": "i2kZMZkPKCtc",
        "outputId": "c0270344-1a22-480b-df76-1cd121a639fc"
      },
      "execution_count": 62,
      "outputs": [
        {
          "output_type": "stream",
          "name": "stdout",
          "text": [
            "deque([('A', ['A'])])\n",
            "vertice: A\n",
            "caminho: ['A']\n",
            "vizinho: B\n",
            "vizinho: C\n",
            "vertice: B\n",
            "caminho: ['A', 'B']\n",
            "vizinho: A\n",
            "vizinho: D\n",
            "vizinho: E\n",
            "vertice: C\n",
            "caminho: ['A', 'C']\n",
            "vizinho: A\n",
            "vizinho: F\n",
            "vizinho: G\n",
            "vertice: D\n",
            "caminho: ['A', 'B', 'D']\n",
            "vizinho: B\n",
            "vertice: E\n",
            "caminho: ['A', 'B', 'E']\n",
            "vizinho: B\n",
            "vizinho: H\n",
            "Caminho mais curto: ['A', 'B', 'E', 'H']\n"
          ]
        }
      ]
    }
  ]
}