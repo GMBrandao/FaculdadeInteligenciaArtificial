{
  "nbformat": 4,
  "nbformat_minor": 0,
  "metadata": {
    "colab": {
      "provenance": [],
      "mount_file_id": "1aAYEP69BUZ5pG7OCZh64h_3esbzUj05W",
      "authorship_tag": "ABX9TyO2sTtiJw1rhfVyQ07byPZm",
      "include_colab_link": true
    },
    "kernelspec": {
      "name": "python3",
      "display_name": "Python 3"
    },
    "language_info": {
      "name": "python"
    }
  },
  "cells": [
    {
      "cell_type": "markdown",
      "metadata": {
        "id": "view-in-github",
        "colab_type": "text"
      },
      "source": [
        "<a href=\"https://colab.research.google.com/github/GMBrandao/FaculdadeInteligenciaArtificial/blob/main/Aula010424.ipynb\" target=\"_parent\"><img src=\"https://colab.research.google.com/assets/colab-badge.svg\" alt=\"Open In Colab\"/></a>"
      ]
    },
    {
      "cell_type": "code",
      "execution_count": null,
      "metadata": {
        "id": "6cfg_MLOx3af"
      },
      "outputs": [],
      "source": [
        "%pip install spacy"
      ]
    },
    {
      "cell_type": "code",
      "source": [
        "!python -m spacy download pt_core_news_sm"
      ],
      "metadata": {
        "id": "HlwkQz2TyVl6"
      },
      "execution_count": null,
      "outputs": []
    },
    {
      "cell_type": "code",
      "source": [
        "import spacy"
      ],
      "metadata": {
        "id": "xtDmzvCIywUN"
      },
      "execution_count": 3,
      "outputs": []
    },
    {
      "cell_type": "markdown",
      "source": [
        "Carregar a biblioteca spacy"
      ],
      "metadata": {
        "id": "JqR729Puy9Te"
      }
    },
    {
      "cell_type": "code",
      "source": [
        "nlp = spacy.load(\"pt_core_news_sm\")"
      ],
      "metadata": {
        "id": "F7kAC2hRy2-5"
      },
      "execution_count": 10,
      "outputs": []
    },
    {
      "cell_type": "code",
      "source": [
        "texto = '''\"A Revolução de 1930 elevou Getúlio Vargas ao poder, permanecendo como presidente até 1945. Durante seu Governo Provisório (1930-1934), o novo presidente conseguiu contornar os conflitos entre as elites nacionais, principalmente com a vitória sobre a oligarquia e burguesia industrial paulista durante a Revolução Constitucionalista de 1932.\n",
        "\n",
        "A promulgação da Constituição em 1934 e a abertura de um processo democrático selaram o acordo entre as várias frações da classe dominante nacional. Porém, não puderam conter a insatisfação dos setores populares. É nesse sentido que se pode entender o surgimento do Partido Comunista Brasileiro e a tentativa de derrubar o governo de Vargas, através do que ficou conhecido como Intentona Comunista de 1935.\n",
        "\n",
        "A tentativa do PCB serviu de pretexto para Vargas dar um golpe de Estado em 1937, pondo fim ao período constitucional e inaugurando o Estado Novo. Mesmo contendo as forças do integralismo, o Estado Novo marcou mais um período de extremo autoritarismo do Estado Brasileiro.\n",
        "\n",
        "Uma nova Constituição foi adotada e o Congresso foi fechado. Como forma de conter a insatisfação popular e conseguir aumentar o poder de consumo do mercado interno, Vargas promulgou uma série de leis que garantia alguns direitos à classe trabalhadora urbana, além de proporcionar um nível de renda que impulsionasse o esforço de industrialização.\n",
        "\n",
        "A industrialização somada a medidas de racionalização da administração pública caracterizou o esforço de modernizar o Estado brasileiro, garantindo as condições de fortalecimento tanto da burguesia industrial quando da tecnocracia das empresas estatais e da administração pública.\"'''.strip()"
      ],
      "metadata": {
        "id": "5DBFY7z_z0cW"
      },
      "execution_count": 22,
      "outputs": []
    },
    {
      "cell_type": "code",
      "source": [
        "doc = nlp(texto)"
      ],
      "metadata": {
        "id": "Pm46Wk-8z8-r"
      },
      "execution_count": 23,
      "outputs": []
    },
    {
      "cell_type": "code",
      "source": [
        "for entidade in doc.ents:\n",
        "  print(entidade.text, entidade.label_)"
      ],
      "metadata": {
        "colab": {
          "base_uri": "https://localhost:8080/"
        },
        "id": "bOg1x5710A2Z",
        "outputId": "2b17f5ae-c274-4d55-ae42-1d845a35013e"
      },
      "execution_count": 24,
      "outputs": [
        {
          "output_type": "stream",
          "name": "stdout",
          "text": [
            "Getúlio Vargas PER\n",
            "Governo Provisório MISC\n",
            "Revolução Constitucionalista de 1932 MISC\n",
            "Constituição ORG\n",
            "Partido Comunista Brasileiro ORG\n",
            "Vargas PER\n",
            "Intentona Comunista de 1935 ORG\n",
            "PCB ORG\n",
            "Vargas PER\n",
            "Estado LOC\n",
            "Estado Novo ORG\n",
            "Estado Novo ORG\n",
            "Estado Brasileiro LOC\n",
            "Constituição ORG\n",
            "Congresso LOC\n",
            "Vargas PER\n",
            "Estado brasileiro LOC\n"
          ]
        }
      ]
    }
  ]
}